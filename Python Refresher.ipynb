{
  "nbformat": 4,
  "nbformat_minor": 0,
  "metadata": {
    "colab": {
      "provenance": [],
      "authorship_tag": "ABX9TyMzNUcM1AfM7rLiiWPeyX+h",
      "include_colab_link": true
    },
    "kernelspec": {
      "name": "python3",
      "display_name": "Python 3"
    },
    "language_info": {
      "name": "python"
    }
  },
  "cells": [
    {
      "cell_type": "markdown",
      "metadata": {
        "id": "view-in-github",
        "colab_type": "text"
      },
      "source": [
        "<a href=\"https://colab.research.google.com/github/collo7c/AI-Coursework-2025/blob/main/Python%20Refresher.ipynb\" target=\"_parent\"><img src=\"https://colab.research.google.com/assets/colab-badge.svg\" alt=\"Open In Colab\"/></a>"
      ]
    },
    {
      "cell_type": "code",
      "execution_count": 1,
      "metadata": {
        "colab": {
          "base_uri": "https://localhost:8080/"
        },
        "id": "aPpp5f6bA9Cn",
        "outputId": "13a9d326-54aa-4e3b-a863-3f21ddcf5cb3"
      },
      "outputs": [
        {
          "output_type": "stream",
          "name": "stdout",
          "text": [
            "enter the side length of the square:6\n",
            "area of the square: 36.0\n",
            "perimeter of the square: 24.0\n"
          ]
        }
      ],
      "source": [
        "#function to calculate the area of a square\n",
        "def area(side):\n",
        "  return side*side\n",
        "\n",
        "#calculate perimeter of a square\n",
        "def perimeter(side):\n",
        "  return  4*side\n",
        "#ask user for the side length of the square\n",
        "side_length = float(input(\"enter the side length of the square:\"))\n",
        "\n",
        "#call the functions\n",
        "square_area = area(side_length)\n",
        "square_perimeter = perimeter(side_length)\n",
        "\n",
        "#display results\n",
        "print (f\"area of the square: {square_area}\")\n",
        "print (f\"perimeter of the square: {square_perimeter}\")"
      ]
    }
  ]
}