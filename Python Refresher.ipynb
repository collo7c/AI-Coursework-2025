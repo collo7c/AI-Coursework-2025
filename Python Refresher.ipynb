{
  "nbformat": 4,
  "nbformat_minor": 0,
  "metadata": {
    "colab": {
      "provenance": [],
      "authorship_tag": "ABX9TyMK+LEK0E5FsSGNYW9Haz+r",
      "include_colab_link": true
    },
    "kernelspec": {
      "name": "python3",
      "display_name": "Python 3"
    },
    "language_info": {
      "name": "python"
    }
  },
  "cells": [
    {
      "cell_type": "markdown",
      "metadata": {
        "id": "view-in-github",
        "colab_type": "text"
      },
      "source": [
        "<a href=\"https://colab.research.google.com/github/collo7c/AI-Coursework-2025/blob/main/Python%20Refresher.ipynb\" target=\"_parent\"><img src=\"https://colab.research.google.com/assets/colab-badge.svg\" alt=\"Open In Colab\"/></a>"
      ]
    },
    {
      "cell_type": "code",
      "execution_count": null,
      "metadata": {
        "id": "1WMnS-C2Jeie"
      },
      "outputs": [],
      "source": [
        "#initialize an empty list(array)\n",
        "values = []\n",
        "\n",
        "#use a loop to collect 5 numbers from the user\n",
        "for i in range(5):\n",
        "  #convert input to float\n",
        "  num = float(input(f\"enter value {i+1}:\"))\n",
        "  values.append(num)\n",
        "\n",
        "#calculate the average\n",
        "average = sum(values) / len(values)\n",
        "\n",
        "#display results\n",
        "print(\"values entered:\", values)\n",
        "print(\"the average is:\", average)"
      ]
    }
  ]
}