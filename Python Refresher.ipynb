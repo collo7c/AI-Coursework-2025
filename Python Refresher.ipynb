{
  "nbformat": 4,
  "nbformat_minor": 0,
  "metadata": {
    "colab": {
      "provenance": [],
      "authorship_tag": "ABX9TyPqpe7nJ9aZZXjnFRgLvsKF",
      "include_colab_link": true
    },
    "kernelspec": {
      "name": "python3",
      "display_name": "Python 3"
    },
    "language_info": {
      "name": "python"
    }
  },
  "cells": [
    {
      "cell_type": "markdown",
      "metadata": {
        "id": "view-in-github",
        "colab_type": "text"
      },
      "source": [
        "<a href=\"https://colab.research.google.com/github/collo7c/AI-Coursework-2025/blob/main/Python%20Refresher.ipynb\" target=\"_parent\"><img src=\"https://colab.research.google.com/assets/colab-badge.svg\" alt=\"Open In Colab\"/></a>"
      ]
    },
    {
      "cell_type": "code",
      "execution_count": 3,
      "metadata": {
        "colab": {
          "base_uri": "https://localhost:8080/"
        },
        "id": "wlB8WGqVEMrB",
        "outputId": "0f112ee8-5e41-44f2-b67d-54ee6e99b0b4"
      },
      "outputs": [
        {
          "output_type": "stream",
          "name": "stdout",
          "text": [
            "enter a single characrter:A\n",
            "the character'A'is uppercase.\n"
          ]
        }
      ],
      "source": [
        "#function to determine if character is uppercase or lowercase\n",
        "def check_case(char):\n",
        "  if char.isupper():\n",
        "    return \"uppercase\"\n",
        "  elif char.islower():\n",
        "    return \"lowercase\"\n",
        "  else:\n",
        "    return \"not a letter\"\n",
        "\n",
        "\n",
        "#ask the user for a character\n",
        "character = input(\"enter a single characrter:\")\n",
        "\n",
        "#check if it is a letter\n",
        "if len(character) == 1:\n",
        "  result = check_case(character)\n",
        "  print(f\"the character'{character}'is {result}.\")\n",
        "else:\n",
        "  print(\"please enter only one character!\")"
      ]
    }
  ]
}