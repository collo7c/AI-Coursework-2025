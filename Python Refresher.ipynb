{
  "nbformat": 4,
  "nbformat_minor": 0,
  "metadata": {
    "colab": {
      "provenance": [],
      "authorship_tag": "ABX9TyOS8E8knrARzZoH1UqHPMKm",
      "include_colab_link": true
    },
    "kernelspec": {
      "name": "python3",
      "display_name": "Python 3"
    },
    "language_info": {
      "name": "python"
    }
  },
  "cells": [
    {
      "cell_type": "markdown",
      "metadata": {
        "id": "view-in-github",
        "colab_type": "text"
      },
      "source": [
        "<a href=\"https://colab.research.google.com/github/collo7c/AI-Coursework-2025/blob/main/Python%20Refresher.ipynb\" target=\"_parent\"><img src=\"https://colab.research.google.com/assets/colab-badge.svg\" alt=\"Open In Colab\"/></a>"
      ]
    },
    {
      "cell_type": "code",
      "execution_count": 2,
      "metadata": {
        "colab": {
          "base_uri": "https://localhost:8080/"
        },
        "id": "rZpNNdIQHeHa",
        "outputId": "025f4a88-a451-403f-9c55-9d480923baa2"
      },
      "outputs": [
        {
          "output_type": "stream",
          "name": "stdout",
          "text": [
            "the value of x is: 1.0416666666666665\n"
          ]
        }
      ],
      "source": [
        "#program to implement the given pseudocode\n",
        "#initialize variables\n",
        "x = 0\n",
        "y = 20\n",
        "\n",
        "#repeat until y is less than 6\n",
        "while y>=6:\n",
        "  y = y-4\n",
        "\n",
        "  x = x+(2/y)\n",
        "\n",
        "#display the value of x\n",
        "print(\"the value of x is:\",x)"
      ]
    }
  ]
}