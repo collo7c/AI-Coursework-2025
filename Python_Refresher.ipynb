{
  "nbformat": 4,
  "nbformat_minor": 0,
  "metadata": {
    "colab": {
      "provenance": [],
      "authorship_tag": "ABX9TyPvlEzmTKy/XqRe9uCC9t0x",
      "include_colab_link": true
    },
    "kernelspec": {
      "name": "python3",
      "display_name": "Python 3"
    },
    "language_info": {
      "name": "python"
    }
  },
  "cells": [
    {
      "cell_type": "markdown",
      "metadata": {
        "id": "view-in-github",
        "colab_type": "text"
      },
      "source": [
        "<a href=\"https://colab.research.google.com/github/collo7c/AI-Coursework-2025/blob/main/Python_Refresher.ipynb\" target=\"_parent\"><img src=\"https://colab.research.google.com/assets/colab-badge.svg\" alt=\"Open In Colab\"/></a>"
      ]
    },
    {
      "cell_type": "code",
      "execution_count": 3,
      "metadata": {
        "id": "lI2ulLcKJA6r",
        "colab": {
          "base_uri": "https://localhost:8080/"
        },
        "outputId": "516ba47a-ec75-4d12-ad15-c467d20b52ee"
      },
      "outputs": [
        {
          "output_type": "stream",
          "name": "stdout",
          "text": [
            "enter the number of days: 5\n",
            "5 days is equal to 432000 seconds.\n"
          ]
        }
      ],
      "source": [
        "#ask the user for number of days\n",
        "days = int(input(\"enter the number of days: \"))\n",
        "#calculate the number of seconds\n",
        "#conversion factors\n",
        "hours_per_day = 24\n",
        "minutes_per_hour = 60\n",
        "seconds_per_minute = 60\n",
        "\n",
        "#calculate total seconds\n",
        "total_seconds = days*hours_per_day*minutes_per_hour*seconds_per_minute\n",
        "\n",
        "#display the result\n",
        "print(f\"{days} days is equal to {total_seconds:} seconds.\")"
      ]
    }
  ]
}