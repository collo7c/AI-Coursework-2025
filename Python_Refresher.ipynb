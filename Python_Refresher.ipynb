{
  "nbformat": 4,
  "nbformat_minor": 0,
  "metadata": {
    "colab": {
      "provenance": [],
      "authorship_tag": "ABX9TyMuzztT3sa/PpQ+du1wlLtO",
      "include_colab_link": true
    },
    "kernelspec": {
      "name": "python3",
      "display_name": "Python 3"
    },
    "language_info": {
      "name": "python"
    }
  },
  "cells": [
    {
      "cell_type": "markdown",
      "metadata": {
        "id": "view-in-github",
        "colab_type": "text"
      },
      "source": [
        "<a href=\"https://colab.research.google.com/github/collo7c/AI-Coursework-2025/blob/main/Python_Refresher.ipynb\" target=\"_parent\"><img src=\"https://colab.research.google.com/assets/colab-badge.svg\" alt=\"Open In Colab\"/></a>"
      ]
    },
    {
      "cell_type": "code",
      "execution_count": 2,
      "metadata": {
        "colab": {
          "base_uri": "https://localhost:8080/"
        },
        "id": "IHxxPkOu0vfa",
        "outputId": "7a5ddaf3-b779-4094-9a79-4ec5346082c1"
      },
      "outputs": [
        {
          "output_type": "stream",
          "name": "stdout",
          "text": [
            "enter the radius of the sphere7\n",
            "radius:7.0\n",
            "radius cubed:343.0\n",
            "volume of the sphere:1436.7550402417319\n"
          ]
        }
      ],
      "source": [
        "import math\n",
        "\n",
        "def sphere_volume():\n",
        "  #calculate volume of a sphere\n",
        "  #ask user for radius\n",
        "  radius = float(input(\"enter the radius of the sphere\"))\n",
        "\n",
        "  #calculate the radius cubed using exponential operator\n",
        "  radius_cubed = radius ** 3\n",
        "\n",
        "  #calculate volume using the sphere volume formula\n",
        "  volume = (4/3) * math.pi * radius_cubed\n",
        "\n",
        "  #display the results\n",
        "  print(f\"radius:{radius}\")\n",
        "  print(f\"radius cubed:{radius_cubed}\")\n",
        "  print(f\"volume of the sphere:{volume}\")\n",
        "\n",
        "#execute the function\n",
        "sphere_volume()"
      ]
    }
  ]
}